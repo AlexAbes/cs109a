{
 "cells": [
  {
   "cell_type": "markdown",
   "metadata": {},
   "source": [
    "### Import needed libraries"
   ]
  },
  {
   "cell_type": "code",
   "execution_count": 1,
   "metadata": {},
   "outputs": [
    {
     "name": "stderr",
     "output_type": "stream",
     "text": [
      "/anaconda/lib/python3.6/site-packages/statsmodels/compat/pandas.py:56: FutureWarning: The pandas.core.datetools module is deprecated and will be removed in a future version. Please use the pandas.tseries module instead.\n",
      "  from pandas.core import datetools\n"
     ]
    }
   ],
   "source": [
    "import numpy as np\n",
    "import pandas as pd\n",
    "import matplotlib\n",
    "from scipy import stats, integrate\n",
    "import matplotlib.pyplot as plt\n",
    "import statsmodels.api as sm\n",
    "from statsmodels.api import OLS\n",
    "import sklearn.metrics as metrics\n",
    "from sklearn.preprocessing import StandardScaler\n",
    "from sklearn.decomposition import PCA\n",
    "from sklearn.linear_model import LogisticRegression\n",
    "from sklearn.linear_model import LogisticRegressionCV\n",
    "from sklearn.utils import resample\n",
    "from sklearn.preprocessing import PolynomialFeatures\n",
    "from sklearn.linear_model import LinearRegression\n",
    "from sklearn.neighbors import KNeighborsClassifier\n",
    "from sklearn.tree import DecisionTreeClassifier\n",
    "from sklearn.model_selection import cross_val_score\n",
    "from sklearn.metrics import accuracy_score\n",
    "from sklearn.metrics import confusion_matrix\n",
    "from sklearn.preprocessing import Imputer\n",
    "from sklearn.metrics import mean_squared_error\n",
    "from datetime import datetime\n",
    "from sklearn.metrics import r2_score\n",
    "from sklearn.preprocessing import MinMaxScaler\n",
    "\n",
    "from sklearn.tree import export_graphviz\n",
    "from IPython.display import Image\n",
    "from IPython.display import display\n",
    "%matplotlib inline\n",
    "import seaborn.apionly as sns\n",
    "\n",
    "import warnings\n",
    "warnings.filterwarnings('ignore')"
   ]
  },
  {
   "cell_type": "markdown",
   "metadata": {},
   "source": [
    "### Load the dataset\n",
    "Specifically the set with genre's imputed from the artists and full audio description."
   ]
  },
  {
   "cell_type": "code",
   "execution_count": 2,
   "metadata": {
    "collapsed": true
   },
   "outputs": [],
   "source": [
    "df = pd.read_csv('playlists_categories_plus_audio_artists_metagenres.csv', encoding='ISO-8859-1')"
   ]
  },
  {
   "cell_type": "markdown",
   "metadata": {},
   "source": [
    "Edit the dataset to contain only the relevant predictors, one hot encod the genres and recover the mode data"
   ]
  },
  {
   "cell_type": "code",
   "execution_count": 3,
   "metadata": {
    "collapsed": true
   },
   "outputs": [],
   "source": [
    "# Drop the playlist ID column; only kept as a backup to grab other data from Spotify if needed later\n",
    "df = df.drop(['playlist_id', \"playlist_name\"], axis=1)\n",
    "df = df.drop(df[df.genre == \"None\"].index)"
   ]
  },
  {
   "cell_type": "code",
   "execution_count": 4,
   "metadata": {
    "collapsed": true
   },
   "outputs": [],
   "source": [
    "df = pd.get_dummies(df, columns=[\"genre\"], drop_first=True)"
   ]
  },
  {
   "cell_type": "code",
   "execution_count": 5,
   "metadata": {},
   "outputs": [
    {
     "data": {
      "text/html": [
       "<div>\n",
       "<style>\n",
       "    .dataframe thead tr:only-child th {\n",
       "        text-align: right;\n",
       "    }\n",
       "\n",
       "    .dataframe thead th {\n",
       "        text-align: left;\n",
       "    }\n",
       "\n",
       "    .dataframe tbody tr th {\n",
       "        vertical-align: top;\n",
       "    }\n",
       "</style>\n",
       "<table border=\"1\" class=\"dataframe\">\n",
       "  <thead>\n",
       "    <tr style=\"text-align: right;\">\n",
       "      <th></th>\n",
       "      <th>followers</th>\n",
       "      <th>average_danceability</th>\n",
       "      <th>average_energy</th>\n",
       "      <th>average_key</th>\n",
       "      <th>average_loudness</th>\n",
       "      <th>average_mode</th>\n",
       "      <th>average_speechiness</th>\n",
       "      <th>average_acousticness</th>\n",
       "      <th>average_instrumentalness</th>\n",
       "      <th>average_liveness</th>\n",
       "      <th>...</th>\n",
       "      <th>genre_pop</th>\n",
       "      <th>genre_punk</th>\n",
       "      <th>genre_rap</th>\n",
       "      <th>genre_reggae</th>\n",
       "      <th>genre_religious</th>\n",
       "      <th>genre_rock</th>\n",
       "      <th>genre_soul</th>\n",
       "      <th>genre_soundtrack</th>\n",
       "      <th>genre_speech</th>\n",
       "      <th>genre_world</th>\n",
       "    </tr>\n",
       "  </thead>\n",
       "  <tbody>\n",
       "    <tr>\n",
       "      <th>0</th>\n",
       "      <td>18098330</td>\n",
       "      <td>0.671280</td>\n",
       "      <td>0.655880</td>\n",
       "      <td>4.980000</td>\n",
       "      <td>-5.443000</td>\n",
       "      <td>1.0</td>\n",
       "      <td>0.082964</td>\n",
       "      <td>0.197658</td>\n",
       "      <td>0.000011</td>\n",
       "      <td>0.155500</td>\n",
       "      <td>...</td>\n",
       "      <td>1</td>\n",
       "      <td>0</td>\n",
       "      <td>0</td>\n",
       "      <td>0</td>\n",
       "      <td>0</td>\n",
       "      <td>0</td>\n",
       "      <td>0</td>\n",
       "      <td>0</td>\n",
       "      <td>0</td>\n",
       "      <td>0</td>\n",
       "    </tr>\n",
       "    <tr>\n",
       "      <th>1</th>\n",
       "      <td>8295257</td>\n",
       "      <td>0.752765</td>\n",
       "      <td>0.622176</td>\n",
       "      <td>5.568627</td>\n",
       "      <td>-6.668294</td>\n",
       "      <td>1.0</td>\n",
       "      <td>0.234988</td>\n",
       "      <td>0.178904</td>\n",
       "      <td>0.000019</td>\n",
       "      <td>0.194763</td>\n",
       "      <td>...</td>\n",
       "      <td>0</td>\n",
       "      <td>0</td>\n",
       "      <td>1</td>\n",
       "      <td>0</td>\n",
       "      <td>0</td>\n",
       "      <td>0</td>\n",
       "      <td>0</td>\n",
       "      <td>0</td>\n",
       "      <td>0</td>\n",
       "      <td>0</td>\n",
       "    </tr>\n",
       "    <tr>\n",
       "      <th>2</th>\n",
       "      <td>4595392</td>\n",
       "      <td>0.649760</td>\n",
       "      <td>0.775480</td>\n",
       "      <td>4.460000</td>\n",
       "      <td>-5.624800</td>\n",
       "      <td>1.0</td>\n",
       "      <td>0.072348</td>\n",
       "      <td>0.116406</td>\n",
       "      <td>0.133080</td>\n",
       "      <td>0.188764</td>\n",
       "      <td>...</td>\n",
       "      <td>0</td>\n",
       "      <td>0</td>\n",
       "      <td>0</td>\n",
       "      <td>0</td>\n",
       "      <td>0</td>\n",
       "      <td>0</td>\n",
       "      <td>0</td>\n",
       "      <td>0</td>\n",
       "      <td>0</td>\n",
       "      <td>0</td>\n",
       "    </tr>\n",
       "    <tr>\n",
       "      <th>3</th>\n",
       "      <td>3777270</td>\n",
       "      <td>0.627640</td>\n",
       "      <td>0.538420</td>\n",
       "      <td>5.280000</td>\n",
       "      <td>-7.312480</td>\n",
       "      <td>1.0</td>\n",
       "      <td>0.129162</td>\n",
       "      <td>0.223716</td>\n",
       "      <td>0.016297</td>\n",
       "      <td>0.137370</td>\n",
       "      <td>...</td>\n",
       "      <td>1</td>\n",
       "      <td>0</td>\n",
       "      <td>0</td>\n",
       "      <td>0</td>\n",
       "      <td>0</td>\n",
       "      <td>0</td>\n",
       "      <td>0</td>\n",
       "      <td>0</td>\n",
       "      <td>0</td>\n",
       "      <td>0</td>\n",
       "    </tr>\n",
       "    <tr>\n",
       "      <th>4</th>\n",
       "      <td>3992066</td>\n",
       "      <td>0.526160</td>\n",
       "      <td>0.787100</td>\n",
       "      <td>5.000000</td>\n",
       "      <td>-5.252220</td>\n",
       "      <td>1.0</td>\n",
       "      <td>0.064722</td>\n",
       "      <td>0.050970</td>\n",
       "      <td>0.024833</td>\n",
       "      <td>0.202988</td>\n",
       "      <td>...</td>\n",
       "      <td>0</td>\n",
       "      <td>0</td>\n",
       "      <td>0</td>\n",
       "      <td>0</td>\n",
       "      <td>0</td>\n",
       "      <td>1</td>\n",
       "      <td>0</td>\n",
       "      <td>0</td>\n",
       "      <td>0</td>\n",
       "      <td>0</td>\n",
       "    </tr>\n",
       "  </tbody>\n",
       "</table>\n",
       "<p>5 rows × 40 columns</p>\n",
       "</div>"
      ],
      "text/plain": [
       "   followers  average_danceability  average_energy  average_key  \\\n",
       "0   18098330              0.671280        0.655880     4.980000   \n",
       "1    8295257              0.752765        0.622176     5.568627   \n",
       "2    4595392              0.649760        0.775480     4.460000   \n",
       "3    3777270              0.627640        0.538420     5.280000   \n",
       "4    3992066              0.526160        0.787100     5.000000   \n",
       "\n",
       "   average_loudness  average_mode  average_speechiness  average_acousticness  \\\n",
       "0         -5.443000           1.0             0.082964              0.197658   \n",
       "1         -6.668294           1.0             0.234988              0.178904   \n",
       "2         -5.624800           1.0             0.072348              0.116406   \n",
       "3         -7.312480           1.0             0.129162              0.223716   \n",
       "4         -5.252220           1.0             0.064722              0.050970   \n",
       "\n",
       "   average_instrumentalness  average_liveness     ...       genre_pop  \\\n",
       "0                  0.000011          0.155500     ...               1   \n",
       "1                  0.000019          0.194763     ...               0   \n",
       "2                  0.133080          0.188764     ...               0   \n",
       "3                  0.016297          0.137370     ...               1   \n",
       "4                  0.024833          0.202988     ...               0   \n",
       "\n",
       "   genre_punk  genre_rap  genre_reggae  genre_religious  genre_rock  \\\n",
       "0           0          0             0                0           0   \n",
       "1           0          1             0                0           0   \n",
       "2           0          0             0                0           0   \n",
       "3           0          0             0                0           0   \n",
       "4           0          0             0                0           1   \n",
       "\n",
       "   genre_soul  genre_soundtrack  genre_speech  genre_world  \n",
       "0           0                 0             0            0  \n",
       "1           0                 0             0            0  \n",
       "2           0                 0             0            0  \n",
       "3           0                 0             0            0  \n",
       "4           0                 0             0            0  \n",
       "\n",
       "[5 rows x 40 columns]"
      ]
     },
     "execution_count": 5,
     "metadata": {},
     "output_type": "execute_result"
    }
   ],
   "source": [
    "df.loc[df['average_mode'] >= 0.5, 'average_mode'] = 1\n",
    "df.loc[df['average_mode'] < 0.5, 'average_mode'] = 0 \n",
    "df.head()"
   ]
  },
  {
   "cell_type": "markdown",
   "metadata": {},
   "source": [
    "## Treat Data"
   ]
  },
  {
   "cell_type": "code",
   "execution_count": 6,
   "metadata": {
    "collapsed": true
   },
   "outputs": [],
   "source": [
    "#split dataset\n",
    "np.random.seed(9001)\n",
    "msk = np.random.rand(len(df)) < 0.5\n",
    "data_train = df[msk]\n",
    "data_test = df[~msk]\n"
   ]
  },
  {
   "cell_type": "markdown",
   "metadata": {},
   "source": [
    "Find the average follower count to help inform the threshold between a popular and unpopular playlist (determined using the number of followers)"
   ]
  },
  {
   "cell_type": "code",
   "execution_count": 7,
   "metadata": {},
   "outputs": [
    {
     "name": "stdout",
     "output_type": "stream",
     "text": [
      "The average number of followers is 217349.213793\n"
     ]
    }
   ],
   "source": [
    "average_follower_count = sum(df[\"followers\"])/df[\"followers\"].shape[0]\n",
    "print(\"The average number of followers is\", average_follower_count)"
   ]
  },
  {
   "cell_type": "markdown",
   "metadata": {},
   "source": [
    "Using that threshhold and some padding, change the followers response variable from quantitative to categorical"
   ]
  },
  {
   "cell_type": "code",
   "execution_count": 8,
   "metadata": {
    "collapsed": true
   },
   "outputs": [],
   "source": [
    "#create a categorical followers variable for train (0 being \"unpopular\", 1 being \"popular\")\n",
    "follower_categorical_train = []\n",
    "for ind, element in enumerate (data_train[\"followers\"]):\n",
    "    if element >= 250000:\n",
    "        follower_categorical_train.append(1)\n",
    "    else:\n",
    "        follower_categorical_train.append(0)\n",
    "data_train['followers_categorical'] = pd.Series(follower_categorical_train, index=data_train.index)"
   ]
  },
  {
   "cell_type": "code",
   "execution_count": 9,
   "metadata": {
    "collapsed": true
   },
   "outputs": [],
   "source": [
    "#create a categorical followers variable for test (0 being \"unpopular\", 1 being \"popular\")\n",
    "follower_categorical_test = []\n",
    "for ind, element in enumerate (data_test[\"followers\"]):\n",
    "    if element >= 250000:\n",
    "        follower_categorical_test.append(1)\n",
    "    else:\n",
    "        follower_categorical_test.append(0)\n",
    "data_test['followers_categorical'] = pd.Series(follower_categorical_test, index=data_test.index)"
   ]
  },
  {
   "cell_type": "code",
   "execution_count": 10,
   "metadata": {
    "collapsed": true
   },
   "outputs": [],
   "source": [
    "#normalization, taken from pset 5\n",
    "NORMALIZATION_STRATEGY = 0 # choose 0 for [0,1] scaling, choose 1 for (x-mu)/sd\n",
    "\n",
    "def normalize_columns_strat0(X, X_min, X_max):\n",
    "    return (X-X_min)/(X_max-X_min)\n",
    "\n",
    "def normalize_columns_strat1(X, X_mu, X_sd):\n",
    "    return (X-X_mu)/X_sd\n",
    "\n",
    "if NORMALIZATION_STRATEGY==1:\n",
    "    X_mu = np.append(0,np.mean(data_train,axis=0)[1:])\n",
    "    X_sd = np.append(1,np.std(data_train,axis=0)[1:])\n",
    "    data_train = normalize_columns_strat1(X=data_train, X_mu=X_mu, X_sd=X_sd)\n",
    "    data_test = normalize_columns_strat1(X=data_test, X_mu=X_mu, X_sd=X_sd)\n",
    "    assert np.allclose(np.mean(data_train,axis=0)[1:],0)\n",
    "else:\n",
    "    X_min = np.min(data_train.drop(\"followers\", axis=1),axis=0)\n",
    "    X_max = np.max(data_train.drop(\"followers\", axis=1),axis=0)\n",
    "    data_train_without_f = normalize_columns_strat0(X=data_train.drop(\"followers\", axis=1), X_min=X_min, X_max=X_max)\n",
    "    data_test_without_f = normalize_columns_strat0(X=data_test.drop(\"followers\", axis=1), X_min=X_min, X_max=X_max)   \n",
    "#     assert np.max(data_train.values)==1 and np.min(data_train.values)==0"
   ]
  },
  {
   "cell_type": "markdown",
   "metadata": {},
   "source": [
    "After normalizing and manipulating our response variable, put them back into the train and test sets"
   ]
  },
  {
   "cell_type": "code",
   "execution_count": 11,
   "metadata": {
    "collapsed": true
   },
   "outputs": [],
   "source": [
    "data_train_without_f[\"followers\"] = data_train[\"followers\"]\n",
    "data_test_without_f[\"followers\"] = data_test[\"followers\"]\n",
    "data_train = data_train_without_f.copy()\n",
    "data_test = data_test_without_f.copy()"
   ]
  },
  {
   "cell_type": "markdown",
   "metadata": {},
   "source": [
    "## Base Models\n"
   ]
  },
  {
   "cell_type": "markdown",
   "metadata": {},
   "source": [
    "We begin with a few basic models to start our initial findings"
   ]
  },
  {
   "cell_type": "markdown",
   "metadata": {},
   "source": [
    "#### KNN "
   ]
  },
  {
   "cell_type": "code",
   "execution_count": 12,
   "metadata": {},
   "outputs": [
    {
     "name": "stdout",
     "output_type": "stream",
     "text": [
      "The optimal k is:  22\n",
      "The accuracy score using that k is:  0.822166232748\n"
     ]
    }
   ],
   "source": [
    "X_train = data_train[\"max_popularity\"]\n",
    "y_train = data_train[\"followers_categorical\"]\n",
    "X_test = data_test[\"max_popularity\"]\n",
    "y_test = data_test[\"followers_categorical\"]\n",
    "\n",
    "max_score = 0\n",
    "max_k = 0 \n",
    "\n",
    "for k in range(1,26):\n",
    "    knn = KNeighborsClassifier(n_neighbors = k)\n",
    "    score = cross_val_score(knn,X_train.reshape(X_train.shape[0],1),y_train).mean()\n",
    "    if score > max_score:\n",
    "        max_k = k\n",
    "        max_score = score\n",
    "\n",
    "print(\"The optimal k is: \", max_k)\n",
    "print(\"The accuracy score using that k is: \", max_score)"
   ]
  },
  {
   "cell_type": "markdown",
   "metadata": {},
   "source": [
    "#### Simple Linear Regression (Quantitative)"
   ]
  },
  {
   "cell_type": "code",
   "execution_count": 13,
   "metadata": {},
   "outputs": [
    {
     "name": "stdout",
     "output_type": "stream",
     "text": [
      "Test Mean squared error: 337266472892.05\n",
      "Test R^2 Score:  0.0624109561652\n"
     ]
    },
    {
     "data": {
      "image/png": "[encoded data removed]",
      "text/plain": [
       "<matplotlib.figure.Figure at 0x1121a0710>"
      ]
     },
     "metadata": {},
     "output_type": "display_data"
    }
   ],
   "source": [
    "X_train = data_train[\"max_popularity\"]\n",
    "y_train = data_train[\"followers\"]\n",
    "X_test = data_test[\"max_popularity\"]\n",
    "y_test = data_test[\"followers\"]\n",
    "\n",
    "linreg = LinearRegression()\n",
    "linreg.fit(X_train.reshape(X_train.shape[0],1), y_train.reshape(y_train.shape[0],1))\n",
    "y_pred = linreg.predict(X_test.reshape(X_test.shape[0],1))\n",
    "\n",
    "plt.scatter(X_test, y_test,  color='black')\n",
    "plt.plot(X_test, y_pred, color='blue', linewidth=3)\n",
    "print(\"Test Mean squared error: %.2f\"% mean_squared_error(y_test, y_pred))\n",
    "print(\"Test R^2 Score: \", r2_score(y_test, y_pred))\n",
    "linear_quant_r2 = r2_score(y_test, y_pred)"
   ]
  },
  {
   "cell_type": "markdown",
   "metadata": {},
   "source": [
    "#### Simple Linear Regression (Categorical)"
   ]
  },
  {
   "cell_type": "code",
   "execution_count": 14,
   "metadata": {},
   "outputs": [
    {
     "data": {
      "text/html": [
       "<table class=\"simpletable\">\n",
       "<caption>OLS Regression Results</caption>\n",
       "<tr>\n",
       "  <th>Dep. Variable:</th>    <td>followers_categorical</td> <th>  R-squared:         </th> <td>   0.094</td>\n",
       "</tr>\n",
       "<tr>\n",
       "  <th>Model:</th>                     <td>OLS</td>          <th>  Adj. R-squared:    </th> <td>   0.092</td>\n",
       "</tr>\n",
       "<tr>\n",
       "  <th>Method:</th>               <td>Least Squares</td>     <th>  F-statistic:       </th> <td>   75.40</td>\n",
       "</tr>\n",
       "<tr>\n",
       "  <th>Date:</th>               <td>Thu, 07 Dec 2017</td>    <th>  Prob (F-statistic):</th> <td>2.51e-17</td>\n",
       "</tr>\n",
       "<tr>\n",
       "  <th>Time:</th>                   <td>11:27:40</td>        <th>  Log-Likelihood:    </th> <td> -317.48</td>\n",
       "</tr>\n",
       "<tr>\n",
       "  <th>No. Observations:</th>        <td>   731</td>         <th>  AIC:               </th> <td>   639.0</td>\n",
       "</tr>\n",
       "<tr>\n",
       "  <th>Df Residuals:</th>            <td>   729</td>         <th>  BIC:               </th> <td>   648.1</td>\n",
       "</tr>\n",
       "<tr>\n",
       "  <th>Df Model:</th>                <td>     1</td>         <th>                     </th>     <td> </td>   \n",
       "</tr>\n",
       "<tr>\n",
       "  <th>Covariance Type:</th>        <td>nonrobust</td>       <th>                     </th>     <td> </td>   \n",
       "</tr>\n",
       "</table>\n",
       "<table class=\"simpletable\">\n",
       "<tr>\n",
       "         <td></td>           <th>coef</th>     <th>std err</th>      <th>t</th>      <th>P>|t|</th>  <th>[0.025</th>    <th>0.975]</th>  \n",
       "</tr>\n",
       "<tr>\n",
       "  <th>const</th>          <td>   -0.3320</td> <td>    0.062</td> <td>   -5.380</td> <td> 0.000</td> <td>   -0.453</td> <td>   -0.211</td>\n",
       "</tr>\n",
       "<tr>\n",
       "  <th>max_popularity</th> <td>    0.7734</td> <td>    0.089</td> <td>    8.683</td> <td> 0.000</td> <td>    0.599</td> <td>    0.948</td>\n",
       "</tr>\n",
       "</table>\n",
       "<table class=\"simpletable\">\n",
       "<tr>\n",
       "  <th>Omnibus:</th>       <td>136.092</td> <th>  Durbin-Watson:     </th> <td>   1.491</td>\n",
       "</tr>\n",
       "<tr>\n",
       "  <th>Prob(Omnibus):</th> <td> 0.000</td>  <th>  Jarque-Bera (JB):  </th> <td> 218.987</td>\n",
       "</tr>\n",
       "<tr>\n",
       "  <th>Skew:</th>          <td> 1.336</td>  <th>  Prob(JB):          </th> <td>2.80e-48</td>\n",
       "</tr>\n",
       "<tr>\n",
       "  <th>Kurtosis:</th>      <td> 3.213</td>  <th>  Cond. No.          </th> <td>    9.42</td>\n",
       "</tr>\n",
       "</table>"
      ],
      "text/plain": [
       "<class 'statsmodels.iolib.summary.Summary'>\n",
       "\"\"\"\n",
       "                              OLS Regression Results                             \n",
       "=================================================================================\n",
       "Dep. Variable:     followers_categorical   R-squared:                       0.094\n",
       "Model:                               OLS   Adj. R-squared:                  0.092\n",
       "Method:                    Least Squares   F-statistic:                     75.40\n",
       "Date:                   Thu, 07 Dec 2017   Prob (F-statistic):           2.51e-17\n",
       "Time:                           11:27:40   Log-Likelihood:                -317.48\n",
       "No. Observations:                    731   AIC:                             639.0\n",
       "Df Residuals:                        729   BIC:                             648.1\n",
       "Df Model:                              1                                         \n",
       "Covariance Type:               nonrobust                                         \n",
       "==================================================================================\n",
       "                     coef    std err          t      P>|t|      [0.025      0.975]\n",
       "----------------------------------------------------------------------------------\n",
       "const             -0.3320      0.062     -5.380      0.000      -0.453      -0.211\n",
       "max_popularity     0.7734      0.089      8.683      0.000       0.599       0.948\n",
       "==============================================================================\n",
       "Omnibus:                      136.092   Durbin-Watson:                   1.491\n",
       "Prob(Omnibus):                  0.000   Jarque-Bera (JB):              218.987\n",
       "Skew:                           1.336   Prob(JB):                     2.80e-48\n",
       "Kurtosis:                       3.213   Cond. No.                         9.42\n",
       "==============================================================================\n",
       "\n",
       "Warnings:\n",
       "[1] Standard Errors assume that the covariance matrix of the errors is correctly specified.\n",
       "\"\"\""
      ]
     },
     "execution_count": 14,
     "metadata": {},
     "output_type": "execute_result"
    }
   ],
   "source": [
    "X_train = data_train[\"max_popularity\"]\n",
    "y_train = data_train[\"followers_categorical\"]\n",
    "X_test = data_test[\"max_popularity\"]\n",
    "y_test = data_test[\"followers_categorical\"]\n",
    "\n",
    "X_train_wcons = sm.add_constant(X_train)\n",
    "X_test_wcons = sm.add_constant(X_test)\n",
    "\n",
    "# fit\n",
    "ols = OLS(endog=y_train, exog=X_train_wcons).fit()\n",
    "ols.summary()"
   ]
  },
  {
   "cell_type": "code",
   "execution_count": 15,
   "metadata": {},
   "outputs": [
    {
     "name": "stdout",
     "output_type": "stream",
     "text": [
      "Test Mean squared error: 0.14\n",
      "Test R^2 Score:  0.0805912337994\n",
      "ols single predictor accuracy in train = 0.810\n",
      "ols single predictor accuracy in test = 0.814\n"
     ]
    },
    {
     "data": {
      "image/png": "[encoded data removed]",
      "text/plain": [
       "<matplotlib.figure.Figure at 0x11695f668>"
      ]
     },
     "metadata": {},
     "output_type": "display_data"
    }
   ],
   "source": [
    "# predictions\n",
    "y_hat_ols_train = ols.predict(X_train_wcons)\n",
    "y_hat_ols_test = ols.predict(X_test_wcons)\n",
    "# accuracy\n",
    "print(\"Test Mean squared error: %.2f\"% mean_squared_error(y_test, y_hat_ols_test))\n",
    "print(\"Test R^2 Score: \", r2_score(y_test, y_hat_ols_test))\n",
    "print(\"ols single predictor accuracy in train = %0.3f\" % accuracy_score(y_train, y_hat_ols_train>0.5))\n",
    "print(\"ols single predictor accuracy in test = %0.3f\" % accuracy_score(y_test, y_hat_ols_test>0.5))\n",
    "\n",
    "plt.scatter(X_test, data_test[\"followers\"],  color='black')\n",
    "plt.plot(X_test, y_pred, color='blue', linewidth=3)\n",
    "linear_r2 = r2_score(y_test, y_hat_ols_test)"
   ]
  },
  {
   "cell_type": "markdown",
   "metadata": {},
   "source": [
    "#### Logistic Regression"
   ]
  },
  {
   "cell_type": "code",
   "execution_count": 16,
   "metadata": {},
   "outputs": [
    {
     "data": {
      "text/plain": [
       "LogisticRegressionCV(Cs=[1e-10, 1.0000000000000001e-09, 1e-08, 9.9999999999999995e-08, 9.9999999999999995e-07, 1.0000000000000001e-05, 0.0001, 0.001, 0.01, 0.10000000000000001, 1.0, 10.0, 100.0, 1000.0, 10000.0, 100000.0, 1000000.0, 10000000.0, 100000000.0, 1000000000.0],\n",
       "           class_weight=None, cv=None, dual=False, fit_intercept=False,\n",
       "           intercept_scaling=1.0, max_iter=100, multi_class='ovr',\n",
       "           n_jobs=1, penalty='l2', random_state=None, refit=True,\n",
       "           scoring=None, solver='lbfgs', tol=0.0001, verbose=0)"
      ]
     },
     "execution_count": 16,
     "metadata": {},
     "output_type": "execute_result"
    }
   ],
   "source": [
    "X_train = data_train[\"max_popularity\"]\n",
    "y_train = data_train[\"followers_categorical\"]\n",
    "X_test = data_test[\"max_popularity\"]\n",
    "y_test = data_test[\"followers_categorical\"]\n",
    "\n",
    "X_train_wcons = sm.add_constant(X_train)\n",
    "X_test_wcons = sm.add_constant(X_test)\n",
    "\n",
    "logreg = LogisticRegressionCV(Cs=list(np.power(10.0, np.arange(-10, 10))), fit_intercept=False)\n",
    "logreg.fit(X_train_wcons, y_train)\n"
   ]
  },
  {
   "cell_type": "code",
   "execution_count": 17,
   "metadata": {},
   "outputs": [
    {
     "name": "stdout",
     "output_type": "stream",
     "text": [
      "logit single predictor accuracy in train = 0.825\n",
      "logit single predictor accuracy in test = 0.814\n"
     ]
    }
   ],
   "source": [
    "y_hat_logreg_train = logreg.predict_proba(X_train_wcons)[:,1]\n",
    "y_hat_logreg_test = logreg.predict_proba(X_test_wcons)[:,1]\n",
    "\n",
    "# accuracy\n",
    "print(\"logit single predictor accuracy in train = %0.3f\" % accuracy_score(y_train, y_hat_logreg_train>0.5))\n",
    "print(\"logit single predictor accuracy in test = %0.3f\" % accuracy_score(y_test, y_hat_logreg_test>0.5))\n",
    "log_reg_score = accuracy_score(y_test, y_hat_logreg_test>0.5)"
   ]
  },
  {
   "cell_type": "markdown",
   "metadata": {},
   "source": [
    "These models all appear to perform roughly the same, with the KNN Regression performing the best. Now we will expand upon these initial models to improve the accuracy of the predictions we are making"
   ]
  },
  {
   "cell_type": "markdown",
   "metadata": {},
   "source": [
    "#### Multi-Linear Regression"
   ]
  },
  {
   "cell_type": "markdown",
   "metadata": {},
   "source": [
    "Using predictors that we found significant during EDA:"
   ]
  },
  {
   "cell_type": "code",
   "execution_count": 18,
   "metadata": {},
   "outputs": [
    {
     "name": "stdout",
     "output_type": "stream",
     "text": [
      "Test Mean squared error: 0.14\n",
      "Test R^2 Score:  0.105367400332\n",
      "ols single predictor accuracy in train = 0.813\n",
      "ols single predictor accuracy in test = 0.814\n"
     ]
    }
   ],
   "source": [
    "#Regression with only a few predictors\n",
    "predictors = [\"average_duration_ms\", \"total_duration\", \"total_num\", \"max_popularity\"]\n",
    "\n",
    "X_train = sm.add_constant(data_train[predictors])\n",
    "y_train = data_train[\"followers_categorical\"]\n",
    "X_test = sm.add_constant(data_test[predictors])\n",
    "y_test = data_test[\"followers_categorical\"]\n",
    "\n",
    "model = OLS(endog=y_train, exog=X_train)\n",
    "result = model.fit()\n",
    "\n",
    "y_hat_train_multi = result.predict()\n",
    "y_hat_test_multi = result.predict(exog=X_test)\n",
    "\n",
    "#MSE, R^2\n",
    "print(\"Test Mean squared error: %.2f\"% mean_squared_error(y_test, y_hat_test_multi))\n",
    "print('Test R^2 Score: ', r2_score(data_test['followers_categorical'], y_hat_test_multi))\n",
    "\n",
    "#Accuracy\n",
    "print(\"ols single predictor accuracy in train = %0.3f\" % accuracy_score(y_train, y_hat_train_multi>0.5))\n",
    "print(\"ols single predictor accuracy in test = %0.3f\" % accuracy_score(y_test, y_hat_test_multi>0.5))"
   ]
  },
  {
   "cell_type": "markdown",
   "metadata": {},
   "source": [
    "Seeing that these did not enhance the model greatly, we reran it using all the predictors"
   ]
  },
  {
   "cell_type": "code",
   "execution_count": 19,
   "metadata": {},
   "outputs": [
    {
     "name": "stdout",
     "output_type": "stream",
     "text": [
      "Mean squared error: 0.13\n",
      "Test R^2 Score:  0.134516040683\n",
      "ols single predictor accuracy in train = 0.829\n",
      "ols single predictor accuracy in test = 0.815\n"
     ]
    }
   ],
   "source": [
    "#all predictors\n",
    "predictors = [\"average_danceability\",\"average_energy\",\"average_key\",\"average_loudness\",\n",
    "              \"average_mode\",\"average_speechiness\",\"average_acousticness\",\n",
    "              \"average_instrumentalness\",\"average_liveness\",\"average_valence\",\n",
    "              \"average_tempo\",\"average_time_signature\",\n",
    "              \"average_duration_ms\", \"total_duration\", \"total_num\", \"max_popularity\"]\n",
    "\n",
    "X_train = sm.add_constant(data_train[predictors])\n",
    "y_train = data_train[\"followers_categorical\"]\n",
    "X_test = sm.add_constant(data_test[predictors])\n",
    "y_test = data_test[\"followers_categorical\"]\n",
    "\n",
    "model = OLS(endog=y_train, exog=X_train)\n",
    "result = model.fit()\n",
    "\n",
    "y_hat_train_multi_all = result.predict()\n",
    "y_hat_test_multi_all = result.predict(exog=X_test)\n",
    "\n",
    "#MSE, R^2\n",
    "print(\"Mean squared error: %.2f\"% mean_squared_error(y_test, y_hat_test_multi_all))\n",
    "print('Test R^2 Score: ', r2_score(data_test['followers_categorical'], y_hat_test_multi_all))\n",
    "\n",
    "#Accuracy\n",
    "print(\"ols single predictor accuracy in train = %0.3f\" % accuracy_score(y_train, y_hat_train_multi_all>0.5))\n",
    "print(\"ols single predictor accuracy in test = %0.3f\" % accuracy_score(y_test, y_hat_test_multi_all>0.5))\n",
    "mult_lin_score = accuracy_score(y_test, y_hat_test_multi_all>0.5)"
   ]
  },
  {
   "cell_type": "markdown",
   "metadata": {},
   "source": [
    "#### Multiple Logistic Regression"
   ]
  },
  {
   "cell_type": "code",
   "execution_count": 20,
   "metadata": {},
   "outputs": [
    {
     "data": {
      "text/plain": [
       "LogisticRegressionCV(Cs=[1e-10, 1.0000000000000001e-09, 1e-08, 9.9999999999999995e-08, 9.9999999999999995e-07, 1.0000000000000001e-05, 0.0001, 0.001, 0.01, 0.10000000000000001, 1.0, 10.0, 100.0, 1000.0, 10000.0, 100000.0, 1000000.0, 10000000.0, 100000000.0, 1000000000.0],\n",
       "           class_weight=None, cv=None, dual=False, fit_intercept=False,\n",
       "           intercept_scaling=1.0, max_iter=100, multi_class='ovr',\n",
       "           n_jobs=1, penalty='l2', random_state=None, refit=True,\n",
       "           scoring=None, solver='lbfgs', tol=0.0001, verbose=0)"
      ]
     },
     "execution_count": 20,
     "metadata": {},
     "output_type": "execute_result"
    }
   ],
   "source": [
    "X_train = data_train.drop([\"followers\", \"followers_categorical\"], axis=1)\n",
    "y_train = data_train[\"followers_categorical\"]\n",
    "X_test = data_test.drop([\"followers\", \"followers_categorical\"], axis=1)\n",
    "y_test = data_test[\"followers_categorical\"]\n",
    "\n",
    "logregmul = LogisticRegressionCV(Cs=list(np.power(10.0, np.arange(-10, 10))), fit_intercept=False)\n",
    "X_train_mul_log = sm.add_constant(X_train)\n",
    "X_test_mul_log = sm.add_constant(X_test)\n",
    "logregmul.fit(X_train_mul_log, y_train)"
   ]
  },
  {
   "cell_type": "code",
   "execution_count": 21,
   "metadata": {},
   "outputs": [
    {
     "name": "stdout",
     "output_type": "stream",
     "text": [
      "logit all predictors accuracy in train = 0.882\n",
      "logit all predictors accuracy in test = 0.857\n"
     ]
    }
   ],
   "source": [
    "y_hat_logregmul_train = logregmul.predict(X_train_mul_log)\n",
    "y_hat_logregmul_test = logregmul.predict(X_test_mul_log)\n",
    "\n",
    "# accuracy\n",
    "print(\"logit all predictors accuracy in train = %0.3f\" % accuracy_score(y_train, y_hat_logregmul_train))\n",
    "print(\"logit all predictors accuracy in test = %0.3f\" % accuracy_score(y_test, y_hat_logregmul_test))\n",
    "mult_log_score = accuracy_score(y_test, y_hat_logregmul_test)"
   ]
  },
  {
   "cell_type": "markdown",
   "metadata": {},
   "source": [
    "We thought it would be import to look at the confusion matrix for Multi Logistic Regression as another metric by which to evalute the model"
   ]
  },
  {
   "cell_type": "code",
   "execution_count": 22,
   "metadata": {},
   "outputs": [
    {
     "name": "stdout",
     "output_type": "stream",
     "text": [
      "TP Rate:  0.477611940299\n",
      "[[552  33]\n",
      " [ 70  64]]\n"
     ]
    }
   ],
   "source": [
    "cmatrix = confusion_matrix(y_test,logregmul.predict(X_test_mul_log))\n",
    "print(\"TP Rate: \",  cmatrix[1][1]/(sum(cmatrix[1])))\n",
    "print(cmatrix)"
   ]
  },
  {
   "cell_type": "code",
   "execution_count": 23,
   "metadata": {},
   "outputs": [
    {
     "name": "stdout",
     "output_type": "stream",
     "text": [
      "False Positive rate: 0.0564102564103\n",
      "False Negative rate: 0.522388059701\n"
     ]
    }
   ],
   "source": [
    "print(\"False Positive rate:\", cmatrix[0][1]/sum(cmatrix[0]))\n",
    "print(\"False Negative rate:\", cmatrix[1][0]/sum(cmatrix[1]))"
   ]
  },
  {
   "cell_type": "markdown",
   "metadata": {},
   "source": [
    "#### Multi Logistic Regression w/ Polynomial Features"
   ]
  },
  {
   "cell_type": "markdown",
   "metadata": {},
   "source": [
    "During EDA, we saw some quadratic shapes in our data so we then added quadratic terms to our Multi Logistic Regression Model"
   ]
  },
  {
   "cell_type": "code",
   "execution_count": 24,
   "metadata": {
    "collapsed": true
   },
   "outputs": [],
   "source": [
    "cont_variables = ['average_danceability', 'average_energy', 'average_key',\n",
    "       'average_loudness', 'average_mode', 'average_speechiness',\n",
    "       'average_acousticness', 'average_instrumentalness', 'average_liveness',\n",
    "       'average_valence', 'average_tempo', 'average_time_signature',\n",
    "       'average_duration_ms', 'total_duration', 'total_num', 'max_popularity',\n",
    "       'avg_popularity']\n",
    "cat_variables = ['genre_blues', 'genre_children', 'genre_christmas',\n",
    "       'genre_classical', 'genre_comedy', 'genre_country', 'genre_dance',\n",
    "       'genre_electronic', 'genre_indie', 'genre_metal', 'genre_oldies',\n",
    "       'genre_other', 'genre_pop', 'genre_punk', 'genre_rap', 'genre_reggae',\n",
    "       'genre_religious', 'genre_rock', 'genre_soul', 'genre_soundtrack',\n",
    "       'genre_speech', 'genre_world']"
   ]
  },
  {
   "cell_type": "code",
   "execution_count": 25,
   "metadata": {},
   "outputs": [
    {
     "name": "stdout",
     "output_type": "stream",
     "text": [
      "Polynomial Logistic Regression Test Score:  0.858136300417\n"
     ]
    }
   ],
   "source": [
    "X_train = data_train.drop([\"followers\", \"followers_categorical\"], axis=1)\n",
    "y_train = data_train[\"followers_categorical\"]\n",
    "X_test = data_test.drop([\"followers\", \"followers_categorical\"], axis=1)\n",
    "y_test = data_test[\"followers_categorical\"]\n",
    "\n",
    "for cont in cont_variables:\n",
    "    name = cont + \"_squared\"\n",
    "    X_train[name] = X_train[cont] ** 2\n",
    "    X_test[name] = X_test[cont] ** 2\n",
    "\n",
    "#lrm_ovr2 = LogisticRegressionCV()\n",
    "lrm = LogisticRegressionCV(Cs=list(np.power(10.0, np.arange(-10, 10))), cv=5, penalty='l2')\n",
    "lrm.fit(X_train, y_train)\n",
    "\n",
    "print('Polynomial Logistic Regression Test Score: ', accuracy_score(y_test, lrm.predict(X_test)))\n",
    "mult_log_poly_score = accuracy_score(y_test, lrm.predict(X_test))\n"
   ]
  },
  {
   "cell_type": "markdown",
   "metadata": {},
   "source": [
    "#### With Interaction Terms"
   ]
  },
  {
   "cell_type": "markdown",
   "metadata": {},
   "source": [
    "In order to determine the effects that using a combination of predictors has on a model, we added interaction terms"
   ]
  },
  {
   "cell_type": "code",
   "execution_count": 28,
   "metadata": {},
   "outputs": [
    {
     "name": "stdout",
     "output_type": "stream",
     "text": [
      "The accuracy score with all polynomials and interaction terms is 0.835883171071\n"
     ]
    }
   ],
   "source": [
    "# for each categorical variable\n",
    "for cont in cont_variables:\n",
    "    for cat in cat_variables:\n",
    "        name = cont + \"_\" + cat\n",
    "        X_train[name] = X_train[cont] * X_train[cat]\n",
    "        X_test[name] = X_test[cont] * X_test[cat]\n",
    "\n",
    "log_interact = LogisticRegressionCV(Cs=list(np.power(10.0, np.arange(-10, 10))), fit_intercept=False)\n",
    "log_interact.fit(X_train, y_train)\n",
    "y_hat_train = log_interact.predict(X_train)\n",
    "y_hat_test = log_interact.predict(X_test)\n",
    "\n",
    "print(\"The accuracy score with all polynomials and interaction terms is\", accuracy_score(y_test, y_hat_test))\n",
    "mult_log_poly_inter_score = accuracy_score(y_test, y_hat_test)"
   ]
  },
  {
   "cell_type": "markdown",
   "metadata": {},
   "source": [
    "#### Significance of Coefficients"
   ]
  },
  {
   "cell_type": "markdown",
   "metadata": {},
   "source": [
    "After some general insight given to us by the success of the models, we thought it would be helpful to determine which of the predictors actually had a significant effect on the models to better tune them"
   ]
  },
  {
   "cell_type": "code",
   "execution_count": 29,
   "metadata": {
    "collapsed": true
   },
   "outputs": [],
   "source": [
    "# 100 times: create a bootstrapped sample and find the confidence interval\n",
    "predictor_dict = {}\n",
    "all_predictors = X_train.columns\n",
    "data_train = X_train.copy()\n",
    "data_train[\"followers_categorical\"] = y_train\n",
    "\n",
    "for i in range(100):\n",
    "    # Resample to get the new sample\n",
    "    bootstrap_sample = resample(data_train)\n",
    "    # Fit the model on this new boostrapped sample\n",
    "    multi_log_model = LogisticRegression(C=100000)\n",
    "    multi_log_model.fit(bootstrap_sample.drop('followers_categorical', axis=1), bootstrap_sample['followers_categorical'])\n",
    "    for idx,val in enumerate(all_predictors):\n",
    "        # If the predictor_dict does not yet have this predictor in it:\n",
    "        if val in predictor_dict:\n",
    "            predictor_dict[val].append(multi_log_model.coef_[0][idx])\n",
    "        else:\n",
    "            predictor_dict[val] = [multi_log_model.coef_[0][idx]]"
   ]
  },
  {
   "cell_type": "code",
   "execution_count": 30,
   "metadata": {},
   "outputs": [
    {
     "name": "stdout",
     "output_type": "stream",
     "text": [
      "The number of significant predictors is 151 out of all 430 predictors\n",
      "The significant predictors are ['total_duration', 'genre_christmas', 'genre_comedy', 'genre_country', 'genre_dance', 'genre_metal', 'genre_oldies', 'genre_other', 'genre_punk', 'genre_soul', 'genre_speech', 'genre_world', 'total_duration_squared', 'total_num_squared', 'average_danceability_genre_christmas', 'average_danceability_genre_comedy', 'average_danceability_genre_oldies', 'average_danceability_genre_punk', 'average_danceability_genre_soul', 'average_danceability_genre_speech', 'average_energy_genre_christmas', 'average_energy_genre_comedy', 'average_energy_genre_oldies', 'average_energy_genre_other', 'average_energy_genre_punk', 'average_energy_genre_soul', 'average_energy_genre_speech', 'average_energy_genre_world', 'average_key_genre_christmas', 'average_key_genre_comedy', 'average_key_genre_country', 'average_key_genre_oldies', 'average_key_genre_other', 'average_key_genre_punk', 'average_key_genre_soul', 'average_key_genre_speech', 'average_key_genre_world', 'average_loudness_genre_christmas', 'average_loudness_genre_comedy', 'average_loudness_genre_electronic', 'average_loudness_genre_oldies', 'average_loudness_genre_punk', 'average_loudness_genre_soul', 'average_loudness_genre_speech', 'average_loudness_genre_world', 'average_mode_genre_christmas', 'average_mode_genre_comedy', 'average_mode_genre_country', 'average_mode_genre_oldies', 'average_mode_genre_punk', 'average_mode_genre_soul', 'average_mode_genre_speech', 'average_mode_genre_world', 'average_speechiness_genre_christmas', 'average_speechiness_genre_comedy', 'average_speechiness_genre_country', 'average_speechiness_genre_indie', 'average_speechiness_genre_oldies', 'average_speechiness_genre_punk', 'average_speechiness_genre_soul', 'average_speechiness_genre_speech', 'average_acousticness_genre_christmas', 'average_acousticness_genre_comedy', 'average_acousticness_genre_metal', 'average_acousticness_genre_oldies', 'average_acousticness_genre_punk', 'average_acousticness_genre_soul', 'average_acousticness_genre_speech', 'average_instrumentalness_genre_christmas', 'average_instrumentalness_genre_comedy', 'average_instrumentalness_genre_metal', 'average_instrumentalness_genre_oldies', 'average_instrumentalness_genre_punk', 'average_instrumentalness_genre_rap', 'average_instrumentalness_genre_soul', 'average_instrumentalness_genre_speech', 'average_instrumentalness_genre_world', 'average_liveness_genre_christmas', 'average_liveness_genre_comedy', 'average_liveness_genre_oldies', 'average_liveness_genre_other', 'average_liveness_genre_punk', 'average_liveness_genre_soul', 'average_liveness_genre_speech', 'average_liveness_genre_world', 'average_valence_genre_christmas', 'average_valence_genre_comedy', 'average_valence_genre_oldies', 'average_valence_genre_punk', 'average_valence_genre_soul', 'average_valence_genre_speech', 'average_valence_genre_world', 'average_tempo_genre_christmas', 'average_tempo_genre_comedy', 'average_tempo_genre_dance', 'average_tempo_genre_oldies', 'average_tempo_genre_other', 'average_tempo_genre_punk', 'average_tempo_genre_soul', 'average_tempo_genre_speech', 'average_tempo_genre_world', 'average_time_signature_genre_christmas', 'average_time_signature_genre_comedy', 'average_time_signature_genre_oldies', 'average_time_signature_genre_other', 'average_time_signature_genre_punk', 'average_time_signature_genre_soul', 'average_time_signature_genre_soundtrack', 'average_time_signature_genre_speech', 'average_time_signature_genre_world', 'average_duration_ms_genre_christmas', 'average_duration_ms_genre_comedy', 'average_duration_ms_genre_metal', 'average_duration_ms_genre_oldies', 'average_duration_ms_genre_punk', 'average_duration_ms_genre_soul', 'average_duration_ms_genre_soundtrack', 'average_duration_ms_genre_speech', 'average_duration_ms_genre_world', 'total_duration_genre_christmas', 'total_duration_genre_comedy', 'total_duration_genre_indie', 'total_duration_genre_oldies', 'total_duration_genre_other', 'total_duration_genre_punk', 'total_duration_genre_soul', 'total_duration_genre_speech', 'total_duration_genre_world', 'total_num_genre_christmas', 'total_num_genre_comedy', 'total_num_genre_oldies', 'total_num_genre_other', 'total_num_genre_punk', 'total_num_genre_soul', 'total_num_genre_speech', 'total_num_genre_world', 'max_popularity_genre_christmas', 'max_popularity_genre_comedy', 'max_popularity_genre_oldies', 'max_popularity_genre_punk', 'max_popularity_genre_soul', 'max_popularity_genre_speech', 'max_popularity_genre_world', 'avg_popularity_genre_christmas', 'avg_popularity_genre_comedy', 'avg_popularity_genre_oldies', 'avg_popularity_genre_pop', 'avg_popularity_genre_punk', 'avg_popularity_genre_soul', 'avg_popularity_genre_speech', 'avg_popularity_genre_world']\n"
     ]
    }
   ],
   "source": [
    "# Order each list in predictor_dict\n",
    "for k,v in predictor_dict.items():\n",
    "    predictor_dict[k].sort()\n",
    "# Find the middle 95% percentile of each list and check if 0 is in there\n",
    "count = 0\n",
    "significant_predictors = []\n",
    "for k,v in predictor_dict.items():\n",
    "    lower = np.percentile(v, 2.5)\n",
    "    upper = np.percentile(v, 97.5)\n",
    "    if (lower <= 0) and (upper >= 0):\n",
    "        count = count + 1\n",
    "    else:\n",
    "        significant_predictors.append(k)\n",
    "print(\"The number of significant predictors is\", len(predictor_dict) - count, \"out of all\", len(predictor_dict), \"predictors\")\n",
    "print(\"The significant predictors are\", significant_predictors)"
   ]
  },
  {
   "cell_type": "markdown",
   "metadata": {},
   "source": [
    "### Reduce Dimensionality using Principal Component Analysis"
   ]
  },
  {
   "cell_type": "code",
   "execution_count": 31,
   "metadata": {},
   "outputs": [
    {
     "data": {
      "image/png": "[encoded data removed]",
      "text/plain": [
       "<matplotlib.figure.Figure at 0x106724be0>"
      ]
     },
     "metadata": {},
     "output_type": "display_data"
    }
   ],
   "source": [
    "pca = PCA()\n",
    "pca.fit(X_train)\n",
    "var_c = np.cumsum(pca.explained_variance_ratio_)\n",
    "\n",
    "plt.plot(range(len(var_c)), var_c)\n",
    "plt.axhline(0.9,ls='--',color='red')\n",
    "plt.xlabel(\"pca components\")\n",
    "plt.ylabel(\"cumulative variance explained\");"
   ]
  },
  {
   "cell_type": "markdown",
   "metadata": {},
   "source": [
    "This visualization shows us that 90% of our variance can be explained using at least roughly 15 components."
   ]
  },
  {
   "cell_type": "markdown",
   "metadata": {},
   "source": [
    "Approach to reduce the dimensionality of the data is to use PCA and fit a logistic regression model on the first set of principal components contributing to 90% of the variance in the predictors, as advised in HW5."
   ]
  },
  {
   "cell_type": "code",
   "execution_count": 32,
   "metadata": {},
   "outputs": [
    {
     "name": "stdout",
     "output_type": "stream",
     "text": [
      "The first 18 components explain 0.904 of variance\n"
     ]
    }
   ],
   "source": [
    "n_components_pca = np.sum(var_c<0.9)\n",
    "print(\"The first %i components explain %0.3f of variance\" % (n_components_pca, var_c[n_components_pca]))\n",
    "\n",
    "X_train_pca = pca.transform(X_train)[:,:n_components_pca]\n",
    "X_test_pca = pca.transform(X_test)[:,:n_components_pca]"
   ]
  },
  {
   "cell_type": "code",
   "execution_count": 33,
   "metadata": {},
   "outputs": [
    {
     "name": "stdout",
     "output_type": "stream",
     "text": [
      "The logistic regression model with pca 90pct + logit accuracy in train = 0.847\n",
      "The logistic regression model with pca 90pct + logit accuracy in test = 0.826\n"
     ]
    }
   ],
   "source": [
    "logregpca = LogisticRegression(C=100000, fit_intercept=True)\n",
    "logregpca.fit(X_train_pca, y_train)\n",
    "y_hat_pca_train = logregpca.predict(X_train_pca)\n",
    "y_hat_pca_test = logregpca.predict(X_test_pca)\n",
    "print(\"The logistic regression model with pca 90pct + logit accuracy in train = %0.3f\" % accuracy_score(y_train, y_hat_pca_train))\n",
    "print(\"The logistic regression model with pca 90pct + logit accuracy in test = %0.3f\" % accuracy_score(y_test, y_hat_pca_test))\n",
    "pca_score = accuracy_score(y_test, y_hat_pca_test)"
   ]
  },
  {
   "cell_type": "code",
   "execution_count": 34,
   "metadata": {},
   "outputs": [
    {
     "data": {
      "text/plain": [
       "array([[ 2.25696445,  0.70088599,  0.17293944, ...,  0.52234003,\n",
       "         0.02848262, -0.44894912],\n",
       "       [-0.25113677, -0.30412716, -0.10928628, ...,  0.27130883,\n",
       "        -0.03116073, -0.31246528],\n",
       "       [-0.51653145, -1.18633857,  1.96679726, ...,  0.20786376,\n",
       "        -0.07123972, -0.09197378],\n",
       "       ..., \n",
       "       [ 1.83705999,  0.3561625 , -0.02443208, ..., -0.25206278,\n",
       "        -0.08269643,  0.27518826],\n",
       "       [ 2.13706068,  0.61442095,  0.10947145, ...,  0.15084833,\n",
       "        -0.0207469 , -0.12129121],\n",
       "       [ 1.99441882,  0.40183597,  0.01990108, ...,  0.4554418 ,\n",
       "        -0.10805588, -0.15862813]])"
      ]
     },
     "execution_count": 34,
     "metadata": {},
     "output_type": "execute_result"
    }
   ],
   "source": [
    "X_train_pca"
   ]
  },
  {
   "cell_type": "markdown",
   "metadata": {},
   "source": [
    "## Visualize the Results"
   ]
  },
  {
   "cell_type": "code",
   "execution_count": 46,
   "metadata": {},
   "outputs": [
    {
     "data": {
      "image/png": "[encoded data removed]",
      "text/plain": [
       "<matplotlib.figure.Figure at 0x1065e7710>"
      ]
     },
     "metadata": {},
     "output_type": "display_data"
    }
   ],
   "source": [
    "#referenced: https://matplotlib.org/examples/api/barchart_demo.html\n",
    "sns.set_context(\"poster\")\n",
    "fig, ax = plt.subplots()\n",
    "\n",
    "width = 0.75       # the width of the bars\n",
    "\n",
    "rects1 = ax.bar(1, max_score, width, color='r', label='KNN')\n",
    "rects2 = ax.bar(2, log_reg_score, width, color='b', label='Logistic Regression')\n",
    "rects3 = ax.bar(3, mult_lin_score, width, color='c', label='Multi Linear Regression')\n",
    "rects4 = ax.bar(4, mult_log_score, width, color='m', label='Multi Logistic Regression')\n",
    "rects5 = ax.bar(5, mult_log_poly_score, width, color='y', label='Multi Logistic Regression (Poly Terms)')\n",
    "rects6 = ax.bar(6, mult_log_poly_inter_score, width, color='k', label='Multi Logistic Regression (Poly and Interaction Terms)')\n",
    "rects7 = ax.bar(7, pca_score, width, color='g', label='Multi Logistic Regression Using PCA')\n",
    "\n",
    "labels = ['pad','KNN', 'Logistic Regression','Multi Linear Regression', 'Multi Logistic Regression', 'Multi Logistic Regression (Poly Terms)',\n",
    "          'Multi Logistic Regression (Poly and Interaction Terms)', 'Multi Logistic Regression Using PCA']\n",
    "\n",
    "ax.set_xticklabels(labels, rotation='vertical');\n",
    "\n",
    "def autolabel(rects, val):\n",
    "    \"\"\"\n",
    "    Attach a text label above each bar displaying its height\n",
    "    \"\"\"\n",
    "    for rect in rects:\n",
    "        height = rect.get_height()\n",
    "        ax.text(rect.get_x() + rect.get_width()/3., 1.009*height, round(val,3))\n",
    "\n",
    "autolabel(rects1, max_score)\n",
    "autolabel(rects2, log_reg_score)\n",
    "autolabel(rects3, mult_lin_score)\n",
    "autolabel(rects4, mult_log_score)\n",
    "autolabel(rects5, mult_log_poly_score)\n",
    "autolabel(rects6, mult_log_poly_inter_score)\n",
    "autolabel(rects7, pca_score)\n",
    "\n",
    "ax.set_ylabel(\"Accuracy Score\");\n",
    "ax.set_title(\"Regression Accuracy Scores\");"
   ]
  },
  {
   "cell_type": "markdown",
   "metadata": {},
   "source": [
    "After comparing the accuracy scores of the models, it appears that Multiple Logistic Regression will be the most useful to us in terms of ease of computation/understandability and accuracy"
   ]
  },
  {
   "cell_type": "markdown",
   "metadata": {},
   "source": [
    "## Enhanced Response Variable"
   ]
  },
  {
   "cell_type": "markdown",
   "metadata": {},
   "source": [
    "In order to further our Multiple Logistic Regression model, we thought it best to fine tune the response variable further to create more clases for determining popularity (unpopular, popular, very popular)"
   ]
  },
  {
   "cell_type": "markdown",
   "metadata": {},
   "source": [
    "#### Treat the Data (again)"
   ]
  },
  {
   "cell_type": "markdown",
   "metadata": {},
   "source": [
    "The same method for working with the data from earlier is used, but new thresholds are computed using the distribution of the follower counts for the playlists in our dataset"
   ]
  },
  {
   "cell_type": "code",
   "execution_count": 36,
   "metadata": {},
   "outputs": [
    {
     "data": {
      "text/html": [
       "<div>\n",
       "<style>\n",
       "    .dataframe thead tr:only-child th {\n",
       "        text-align: right;\n",
       "    }\n",
       "\n",
       "    .dataframe thead th {\n",
       "        text-align: left;\n",
       "    }\n",
       "\n",
       "    .dataframe tbody tr th {\n",
       "        vertical-align: top;\n",
       "    }\n",
       "</style>\n",
       "<table border=\"1\" class=\"dataframe\">\n",
       "  <thead>\n",
       "    <tr style=\"text-align: right;\">\n",
       "      <th></th>\n",
       "      <th>followers</th>\n",
       "      <th>average_danceability</th>\n",
       "      <th>average_energy</th>\n",
       "      <th>average_key</th>\n",
       "      <th>average_loudness</th>\n",
       "      <th>average_mode</th>\n",
       "      <th>average_speechiness</th>\n",
       "      <th>average_acousticness</th>\n",
       "      <th>average_instrumentalness</th>\n",
       "      <th>average_liveness</th>\n",
       "      <th>...</th>\n",
       "      <th>genre_pop</th>\n",
       "      <th>genre_punk</th>\n",
       "      <th>genre_rap</th>\n",
       "      <th>genre_reggae</th>\n",
       "      <th>genre_religious</th>\n",
       "      <th>genre_rock</th>\n",
       "      <th>genre_soul</th>\n",
       "      <th>genre_soundtrack</th>\n",
       "      <th>genre_speech</th>\n",
       "      <th>genre_world</th>\n",
       "    </tr>\n",
       "  </thead>\n",
       "  <tbody>\n",
       "    <tr>\n",
       "      <th>0</th>\n",
       "      <td>18098330</td>\n",
       "      <td>0.671280</td>\n",
       "      <td>0.655880</td>\n",
       "      <td>4.980000</td>\n",
       "      <td>-5.443000</td>\n",
       "      <td>1.0</td>\n",
       "      <td>0.082964</td>\n",
       "      <td>0.197658</td>\n",
       "      <td>0.000011</td>\n",
       "      <td>0.155500</td>\n",
       "      <td>...</td>\n",
       "      <td>1</td>\n",
       "      <td>0</td>\n",
       "      <td>0</td>\n",
       "      <td>0</td>\n",
       "      <td>0</td>\n",
       "      <td>0</td>\n",
       "      <td>0</td>\n",
       "      <td>0</td>\n",
       "      <td>0</td>\n",
       "      <td>0</td>\n",
       "    </tr>\n",
       "    <tr>\n",
       "      <th>5</th>\n",
       "      <td>4244887</td>\n",
       "      <td>0.586333</td>\n",
       "      <td>0.718255</td>\n",
       "      <td>6.058824</td>\n",
       "      <td>-5.756765</td>\n",
       "      <td>1.0</td>\n",
       "      <td>0.043808</td>\n",
       "      <td>0.159697</td>\n",
       "      <td>0.000017</td>\n",
       "      <td>0.147806</td>\n",
       "      <td>...</td>\n",
       "      <td>0</td>\n",
       "      <td>0</td>\n",
       "      <td>0</td>\n",
       "      <td>0</td>\n",
       "      <td>0</td>\n",
       "      <td>0</td>\n",
       "      <td>0</td>\n",
       "      <td>0</td>\n",
       "      <td>0</td>\n",
       "      <td>0</td>\n",
       "    </tr>\n",
       "    <tr>\n",
       "      <th>9</th>\n",
       "      <td>987430</td>\n",
       "      <td>0.491962</td>\n",
       "      <td>0.427081</td>\n",
       "      <td>5.238095</td>\n",
       "      <td>-9.009171</td>\n",
       "      <td>1.0</td>\n",
       "      <td>0.035198</td>\n",
       "      <td>0.533639</td>\n",
       "      <td>0.074059</td>\n",
       "      <td>0.140839</td>\n",
       "      <td>...</td>\n",
       "      <td>0</td>\n",
       "      <td>0</td>\n",
       "      <td>0</td>\n",
       "      <td>0</td>\n",
       "      <td>0</td>\n",
       "      <td>0</td>\n",
       "      <td>0</td>\n",
       "      <td>0</td>\n",
       "      <td>0</td>\n",
       "      <td>0</td>\n",
       "    </tr>\n",
       "    <tr>\n",
       "      <th>14</th>\n",
       "      <td>7879</td>\n",
       "      <td>0.573109</td>\n",
       "      <td>0.667089</td>\n",
       "      <td>5.581818</td>\n",
       "      <td>-6.940618</td>\n",
       "      <td>1.0</td>\n",
       "      <td>0.097662</td>\n",
       "      <td>0.218213</td>\n",
       "      <td>0.102929</td>\n",
       "      <td>0.179198</td>\n",
       "      <td>...</td>\n",
       "      <td>0</td>\n",
       "      <td>0</td>\n",
       "      <td>0</td>\n",
       "      <td>0</td>\n",
       "      <td>0</td>\n",
       "      <td>1</td>\n",
       "      <td>0</td>\n",
       "      <td>0</td>\n",
       "      <td>0</td>\n",
       "      <td>0</td>\n",
       "    </tr>\n",
       "    <tr>\n",
       "      <th>15</th>\n",
       "      <td>1454537</td>\n",
       "      <td>0.698060</td>\n",
       "      <td>0.653340</td>\n",
       "      <td>5.300000</td>\n",
       "      <td>-5.828860</td>\n",
       "      <td>0.0</td>\n",
       "      <td>0.086456</td>\n",
       "      <td>0.181231</td>\n",
       "      <td>0.016327</td>\n",
       "      <td>0.150988</td>\n",
       "      <td>...</td>\n",
       "      <td>0</td>\n",
       "      <td>0</td>\n",
       "      <td>0</td>\n",
       "      <td>0</td>\n",
       "      <td>0</td>\n",
       "      <td>0</td>\n",
       "      <td>0</td>\n",
       "      <td>0</td>\n",
       "      <td>0</td>\n",
       "      <td>0</td>\n",
       "    </tr>\n",
       "  </tbody>\n",
       "</table>\n",
       "<p>5 rows × 40 columns</p>\n",
       "</div>"
      ],
      "text/plain": [
       "    followers  average_danceability  average_energy  average_key  \\\n",
       "0    18098330              0.671280        0.655880     4.980000   \n",
       "5     4244887              0.586333        0.718255     6.058824   \n",
       "9      987430              0.491962        0.427081     5.238095   \n",
       "14       7879              0.573109        0.667089     5.581818   \n",
       "15    1454537              0.698060        0.653340     5.300000   \n",
       "\n",
       "    average_loudness  average_mode  average_speechiness  average_acousticness  \\\n",
       "0          -5.443000           1.0             0.082964              0.197658   \n",
       "5          -5.756765           1.0             0.043808              0.159697   \n",
       "9          -9.009171           1.0             0.035198              0.533639   \n",
       "14         -6.940618           1.0             0.097662              0.218213   \n",
       "15         -5.828860           0.0             0.086456              0.181231   \n",
       "\n",
       "    average_instrumentalness  average_liveness     ...       genre_pop  \\\n",
       "0                   0.000011          0.155500     ...               1   \n",
       "5                   0.000017          0.147806     ...               0   \n",
       "9                   0.074059          0.140839     ...               0   \n",
       "14                  0.102929          0.179198     ...               0   \n",
       "15                  0.016327          0.150988     ...               0   \n",
       "\n",
       "    genre_punk  genre_rap  genre_reggae  genre_religious  genre_rock  \\\n",
       "0            0          0             0                0           0   \n",
       "5            0          0             0                0           0   \n",
       "9            0          0             0                0           0   \n",
       "14           0          0             0                0           1   \n",
       "15           0          0             0                0           0   \n",
       "\n",
       "    genre_soul  genre_soundtrack  genre_speech  genre_world  \n",
       "0            0                 0             0            0  \n",
       "5            0                 0             0            0  \n",
       "9            0                 0             0            0  \n",
       "14           0                 0             0            0  \n",
       "15           0                 0             0            0  \n",
       "\n",
       "[5 rows x 40 columns]"
      ]
     },
     "execution_count": 36,
     "metadata": {},
     "output_type": "execute_result"
    }
   ],
   "source": [
    "#split dataset\n",
    "np.random.seed(9001)\n",
    "msk = np.random.rand(len(df)) < 0.5\n",
    "e_data_train = df[msk]\n",
    "e_data_test = df[~msk]\n",
    "e_data_train.head()"
   ]
  },
  {
   "cell_type": "code",
   "execution_count": 37,
   "metadata": {},
   "outputs": [
    {
     "name": "stdout",
     "output_type": "stream",
     "text": [
      "Number of followers at the 80th percentile:  229870.4\n",
      "Number of followers at the 65th percentile:  90625.6\n"
     ]
    }
   ],
   "source": [
    "sorted_followers = df[\"followers\"]\n",
    "sorted_followers.sort_values(ascending=False)\n",
    "print(\"Number of followers at the 80th percentile: \", np.percentile(sorted_followers, 80))\n",
    "print(\"Number of followers at the 65th percentile: \", np.percentile(sorted_followers, 65))"
   ]
  },
  {
   "cell_type": "code",
   "execution_count": 38,
   "metadata": {
    "collapsed": true
   },
   "outputs": [],
   "source": [
    "#create a categorical followers variable for train (0 being \"unpopular\", 1 being \"popular\", \n",
    "#2 being \"very popular\")\n",
    "follower_categorical_train = []\n",
    "for ind, element in enumerate (e_data_train[\"followers\"]):\n",
    "    if element >= 225000:\n",
    "        follower_categorical_train.append(2)\n",
    "    elif (element <= 90000):\n",
    "        follower_categorical_train.append(0)\n",
    "    else:\n",
    "        follower_categorical_train.append(1)\n",
    "e_data_train['followers_categorical'] = pd.Series(follower_categorical_train, index=e_data_train.index)"
   ]
  },
  {
   "cell_type": "code",
   "execution_count": 39,
   "metadata": {
    "collapsed": true
   },
   "outputs": [],
   "source": [
    "#create a categorical followers variable for test (0 being \"unpopular\", 1 being \"popular\",\n",
    "#2 being \"very popular\")\n",
    "follower_categorical_test = []\n",
    "for ind, element in enumerate (e_data_test[\"followers\"]):\n",
    "    if element >= 225000:\n",
    "        follower_categorical_test.append(2)\n",
    "    elif (element <= 90000):\n",
    "        follower_categorical_test.append(0)\n",
    "    else:\n",
    "        follower_categorical_test.append(1)\n",
    "e_data_test['followers_categorical'] = pd.Series(follower_categorical_test, index=e_data_test.index)"
   ]
  },
  {
   "cell_type": "code",
   "execution_count": 40,
   "metadata": {
    "collapsed": true
   },
   "outputs": [],
   "source": [
    "if NORMALIZATION_STRATEGY==1:\n",
    "    X_mu = np.append(0,np.mean(e_data_train,axis=0)[1:])\n",
    "    X_sd = np.append(1,np.std(e_data_train,axis=0)[1:])\n",
    "    e_data_train = normalize_columns_strat1(X=e_data_train, X_mu=X_mu, X_sd=X_sd)\n",
    "    e_data_test = normalize_columns_strat1(X=e_data_test, X_mu=X_mu, X_sd=X_sd)\n",
    "    assert np.allclose(np.mean(e_data_train,axis=0)[1:],0)\n",
    "else:\n",
    "    X_min = np.min(e_data_train.drop([\"followers\", \"followers_categorical\"], axis=1),axis=0)\n",
    "    X_max = np.max(e_data_train.drop([\"followers\", \"followers_categorical\"], axis=1),axis=0)\n",
    "    e_data_train_without_f = normalize_columns_strat0(X=e_data_train.drop([\"followers\", \"followers_categorical\"], axis=1), X_min=X_min, X_max=X_max)\n",
    "    e_data_test_without_f = normalize_columns_strat0(X=e_data_test.drop([\"followers\", \"followers_categorical\"], axis=1), X_min=X_min, X_max=X_max)   \n",
    "#     assert np.max(data_train.values)==1 and np.min(data_train.values)==0"
   ]
  },
  {
   "cell_type": "markdown",
   "metadata": {},
   "source": [
    "Here we get our final train and test sets:"
   ]
  },
  {
   "cell_type": "code",
   "execution_count": 41,
   "metadata": {
    "collapsed": true
   },
   "outputs": [],
   "source": [
    "e_data_train_without_f[\"followers\"] = e_data_train[\"followers\"]\n",
    "e_data_test_without_f[\"followers\"] = e_data_test[\"followers\"]\n",
    "e_data_train_without_f[\"followers_categorical\"] = e_data_train[\"followers_categorical\"]\n",
    "e_data_test_without_f[\"followers_categorical\"] = e_data_test[\"followers_categorical\"]\n",
    "e_data_train = e_data_train_without_f.copy()\n",
    "e_data_test = e_data_test_without_f.copy()"
   ]
  },
  {
   "cell_type": "code",
   "execution_count": 42,
   "metadata": {},
   "outputs": [
    {
     "data": {
      "text/html": [
       "<div>\n",
       "<style>\n",
       "    .dataframe thead tr:only-child th {\n",
       "        text-align: right;\n",
       "    }\n",
       "\n",
       "    .dataframe thead th {\n",
       "        text-align: left;\n",
       "    }\n",
       "\n",
       "    .dataframe tbody tr th {\n",
       "        vertical-align: top;\n",
       "    }\n",
       "</style>\n",
       "<table border=\"1\" class=\"dataframe\">\n",
       "  <thead>\n",
       "    <tr style=\"text-align: right;\">\n",
       "      <th></th>\n",
       "      <th>average_danceability</th>\n",
       "      <th>average_energy</th>\n",
       "      <th>average_key</th>\n",
       "      <th>average_loudness</th>\n",
       "      <th>average_mode</th>\n",
       "      <th>average_speechiness</th>\n",
       "      <th>average_acousticness</th>\n",
       "      <th>average_instrumentalness</th>\n",
       "      <th>average_liveness</th>\n",
       "      <th>average_valence</th>\n",
       "      <th>...</th>\n",
       "      <th>genre_rap</th>\n",
       "      <th>genre_reggae</th>\n",
       "      <th>genre_religious</th>\n",
       "      <th>genre_rock</th>\n",
       "      <th>genre_soul</th>\n",
       "      <th>genre_soundtrack</th>\n",
       "      <th>genre_speech</th>\n",
       "      <th>genre_world</th>\n",
       "      <th>followers</th>\n",
       "      <th>followers_categorical</th>\n",
       "    </tr>\n",
       "  </thead>\n",
       "  <tbody>\n",
       "    <tr>\n",
       "      <th>1</th>\n",
       "      <td>0.927700</td>\n",
       "      <td>0.636589</td>\n",
       "      <td>0.724141</td>\n",
       "      <td>0.785978</td>\n",
       "      <td>1.0</td>\n",
       "      <td>0.246672</td>\n",
       "      <td>0.180486</td>\n",
       "      <td>0.000021</td>\n",
       "      <td>0.213560</td>\n",
       "      <td>0.486739</td>\n",
       "      <td>...</td>\n",
       "      <td>1.0</td>\n",
       "      <td>0.0</td>\n",
       "      <td>0.0</td>\n",
       "      <td>0.0</td>\n",
       "      <td>0.0</td>\n",
       "      <td>0.0</td>\n",
       "      <td>0.0</td>\n",
       "      <td>0.0</td>\n",
       "      <td>8295257</td>\n",
       "      <td>2</td>\n",
       "    </tr>\n",
       "    <tr>\n",
       "      <th>2</th>\n",
       "      <td>0.792135</td>\n",
       "      <td>0.797007</td>\n",
       "      <td>0.560500</td>\n",
       "      <td>0.822721</td>\n",
       "      <td>1.0</td>\n",
       "      <td>0.068412</td>\n",
       "      <td>0.117348</td>\n",
       "      <td>0.146592</td>\n",
       "      <td>0.205982</td>\n",
       "      <td>0.400423</td>\n",
       "      <td>...</td>\n",
       "      <td>0.0</td>\n",
       "      <td>0.0</td>\n",
       "      <td>0.0</td>\n",
       "      <td>0.0</td>\n",
       "      <td>0.0</td>\n",
       "      <td>0.0</td>\n",
       "      <td>0.0</td>\n",
       "      <td>0.0</td>\n",
       "      <td>4595392</td>\n",
       "      <td>2</td>\n",
       "    </tr>\n",
       "    <tr>\n",
       "      <th>3</th>\n",
       "      <td>0.763023</td>\n",
       "      <td>0.548945</td>\n",
       "      <td>0.681538</td>\n",
       "      <td>0.763296</td>\n",
       "      <td>1.0</td>\n",
       "      <td>0.130683</td>\n",
       "      <td>0.225758</td>\n",
       "      <td>0.017952</td>\n",
       "      <td>0.141058</td>\n",
       "      <td>0.466398</td>\n",
       "      <td>...</td>\n",
       "      <td>0.0</td>\n",
       "      <td>0.0</td>\n",
       "      <td>0.0</td>\n",
       "      <td>0.0</td>\n",
       "      <td>0.0</td>\n",
       "      <td>0.0</td>\n",
       "      <td>0.0</td>\n",
       "      <td>0.0</td>\n",
       "      <td>3777270</td>\n",
       "      <td>2</td>\n",
       "    </tr>\n",
       "    <tr>\n",
       "      <th>4</th>\n",
       "      <td>0.629465</td>\n",
       "      <td>0.809166</td>\n",
       "      <td>0.640208</td>\n",
       "      <td>0.835839</td>\n",
       "      <td>1.0</td>\n",
       "      <td>0.060054</td>\n",
       "      <td>0.051241</td>\n",
       "      <td>0.027355</td>\n",
       "      <td>0.223951</td>\n",
       "      <td>0.557527</td>\n",
       "      <td>...</td>\n",
       "      <td>0.0</td>\n",
       "      <td>0.0</td>\n",
       "      <td>0.0</td>\n",
       "      <td>1.0</td>\n",
       "      <td>0.0</td>\n",
       "      <td>0.0</td>\n",
       "      <td>0.0</td>\n",
       "      <td>0.0</td>\n",
       "      <td>3992066</td>\n",
       "      <td>2</td>\n",
       "    </tr>\n",
       "    <tr>\n",
       "      <th>6</th>\n",
       "      <td>0.896923</td>\n",
       "      <td>0.789724</td>\n",
       "      <td>0.637256</td>\n",
       "      <td>0.850605</td>\n",
       "      <td>1.0</td>\n",
       "      <td>0.085638</td>\n",
       "      <td>0.167400</td>\n",
       "      <td>0.000216</td>\n",
       "      <td>0.183519</td>\n",
       "      <td>0.736217</td>\n",
       "      <td>...</td>\n",
       "      <td>0.0</td>\n",
       "      <td>0.0</td>\n",
       "      <td>0.0</td>\n",
       "      <td>0.0</td>\n",
       "      <td>0.0</td>\n",
       "      <td>0.0</td>\n",
       "      <td>0.0</td>\n",
       "      <td>1.0</td>\n",
       "      <td>6607264</td>\n",
       "      <td>2</td>\n",
       "    </tr>\n",
       "  </tbody>\n",
       "</table>\n",
       "<p>5 rows × 41 columns</p>\n",
       "</div>"
      ],
      "text/plain": [
       "   average_danceability  average_energy  average_key  average_loudness  \\\n",
       "1              0.927700        0.636589     0.724141          0.785978   \n",
       "2              0.792135        0.797007     0.560500          0.822721   \n",
       "3              0.763023        0.548945     0.681538          0.763296   \n",
       "4              0.629465        0.809166     0.640208          0.835839   \n",
       "6              0.896923        0.789724     0.637256          0.850605   \n",
       "\n",
       "   average_mode  average_speechiness  average_acousticness  \\\n",
       "1           1.0             0.246672              0.180486   \n",
       "2           1.0             0.068412              0.117348   \n",
       "3           1.0             0.130683              0.225758   \n",
       "4           1.0             0.060054              0.051241   \n",
       "6           1.0             0.085638              0.167400   \n",
       "\n",
       "   average_instrumentalness  average_liveness  average_valence  \\\n",
       "1                  0.000021          0.213560         0.486739   \n",
       "2                  0.146592          0.205982         0.400423   \n",
       "3                  0.017952          0.141058         0.466398   \n",
       "4                  0.027355          0.223951         0.557527   \n",
       "6                  0.000216          0.183519         0.736217   \n",
       "\n",
       "           ...            genre_rap  genre_reggae  genre_religious  \\\n",
       "1          ...                  1.0           0.0              0.0   \n",
       "2          ...                  0.0           0.0              0.0   \n",
       "3          ...                  0.0           0.0              0.0   \n",
       "4          ...                  0.0           0.0              0.0   \n",
       "6          ...                  0.0           0.0              0.0   \n",
       "\n",
       "   genre_rock  genre_soul  genre_soundtrack  genre_speech  genre_world  \\\n",
       "1         0.0         0.0               0.0           0.0          0.0   \n",
       "2         0.0         0.0               0.0           0.0          0.0   \n",
       "3         0.0         0.0               0.0           0.0          0.0   \n",
       "4         1.0         0.0               0.0           0.0          0.0   \n",
       "6         0.0         0.0               0.0           0.0          1.0   \n",
       "\n",
       "   followers  followers_categorical  \n",
       "1    8295257                      2  \n",
       "2    4595392                      2  \n",
       "3    3777270                      2  \n",
       "4    3992066                      2  \n",
       "6    6607264                      2  \n",
       "\n",
       "[5 rows x 41 columns]"
      ]
     },
     "execution_count": 42,
     "metadata": {},
     "output_type": "execute_result"
    }
   ],
   "source": [
    "e_data_test.head()"
   ]
  },
  {
   "cell_type": "markdown",
   "metadata": {},
   "source": [
    "#### Build Model"
   ]
  },
  {
   "cell_type": "markdown",
   "metadata": {},
   "source": [
    "We did another Multiple Logistic Regression here, but using One-vs-Rest and Multinomial Logistic Regression models since we are working with multiple classes now. We evaulte using accuracy scores and the confusion matrix."
   ]
  },
  {
   "cell_type": "code",
   "execution_count": 43,
   "metadata": {},
   "outputs": [
    {
     "data": {
      "text/plain": [
       "LogisticRegressionCV(Cs=10, class_weight=None, cv=None, dual=False,\n",
       "           fit_intercept=True, intercept_scaling=1.0, max_iter=100,\n",
       "           multi_class='multinomial', n_jobs=1, penalty='l2',\n",
       "           random_state=None, refit=True, scoring=None, solver='newton-cg',\n",
       "           tol=0.0001, verbose=0)"
      ]
     },
     "execution_count": 43,
     "metadata": {},
     "output_type": "execute_result"
    }
   ],
   "source": [
    "X_train = e_data_train.drop([\"followers\",\"followers_categorical\"], axis=1)\n",
    "y_train = e_data_train[\"followers_categorical\"]\n",
    "X_test = e_data_test.drop([\"followers\",\"followers_categorical\"], axis=1)\n",
    "y_test = e_data_test[\"followers_categorical\"]\n",
    "\n",
    "#One v. Rest\n",
    "lrm_ovr = LogisticRegressionCV(multi_class = 'ovr')\n",
    "lrm_ovr.fit(X_train,y_train)\n",
    "\n",
    "#Multinomial - according to the documentation, the liblinear solver doesn't work for multinomial\n",
    "lrm_multinomial = LogisticRegressionCV(multi_class = 'multinomial', solver = 'newton-cg')\n",
    "lrm_multinomial.fit(X_train,y_train)"
   ]
  },
  {
   "cell_type": "code",
   "execution_count": 44,
   "metadata": {
    "collapsed": true
   },
   "outputs": [],
   "source": [
    "df_acc = pd.DataFrame()\n",
    "df_acc[\"true\"] = pd.Series(y_test, index=e_data_test.index)\n",
    "df_acc[\"predicted\"] = pd.Series(lrm_ovr.predict(X_test), index=e_data_test.index)\n",
    "\n",
    "df_acc[\"bool\"] = df_acc[\"predicted\"] == df_acc[\"true\"]\n",
    "\n",
    "two_count = 0\n",
    "one_count = 0\n",
    "zero_count = 0\n",
    "    \n",
    "df_acc_zero = df_acc[df_acc[\"true\"]==0] \n",
    "df_acc_one = df_acc[df_acc[\"true\"]==1] \n",
    "df_acc_two = df_acc[df_acc[\"true\"]==1] "
   ]
  },
  {
   "cell_type": "code",
   "execution_count": 45,
   "metadata": {},
   "outputs": [
    {
     "name": "stdout",
     "output_type": "stream",
     "text": [
      "OVR Logistic Regression Test Score:  0.723226703755\n",
      "Multinomial Logistic Regression Test Score:  0.721835883171\n",
      "TP Rate for Unpopular:  0.910256410256\n",
      "TP Rate for Popular:  0.0183486238532\n",
      "TP Rate for Very Popular:  0.0183486238532\n"
     ]
    }
   ],
   "source": [
    "#Computing the score on the test set - \n",
    "print('OVR Logistic Regression Test Score: ',lrm_ovr.score(X_test, y_test))\n",
    "print('Multinomial Logistic Regression Test Score: ',lrm_multinomial.score(X_test, y_test))\n",
    "print(\"TP Rate for Unpopular: \", sum(df_acc_zero[\"bool\"]/df_acc_zero[\"true\"].shape))\n",
    "print(\"TP Rate for Popular: \", sum(df_acc_one[\"bool\"]/df_acc_one[\"true\"].shape))\n",
    "print(\"TP Rate for Very Popular: \", sum(df_acc_two[\"bool\"]/df_acc_two[\"true\"].shape))"
   ]
  },
  {
   "cell_type": "markdown",
   "metadata": {},
   "source": [
    "From these findings it is clear that our earlier Multiple Logistic Regression model is still the most successful"
   ]
  }
 ],
 "metadata": {
  "kernelspec": {
   "display_name": "Python 3",
   "language": "python",
   "name": "python3"
  },
  "language_info": {
   "codemirror_mode": {
    "name": "ipython",
    "version": 3
   },
   "file_extension": ".py",
   "mimetype": "text/x-python",
   "name": "python",
   "nbconvert_exporter": "python",
   "pygments_lexer": "ipython3",
   "version": "3.6.1"
  }
 },
 "nbformat": 4,
 "nbformat_minor": 2
}
